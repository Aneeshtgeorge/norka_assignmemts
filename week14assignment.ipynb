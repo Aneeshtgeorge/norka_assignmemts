{
 "cells": [
  {
   "cell_type": "code",
   "execution_count": 1,
   "metadata": {},
   "outputs": [],
   "source": [
    "## importing libraries\n",
    "import pandas as pd\n",
    "import numpy as np\n",
    "import matplotlib.pyplot as plt\n",
    "import seaborn as sns"
   ]
  },
  {
   "cell_type": "markdown",
   "metadata": {},
   "source": [
    "<b>Loading dataset</b>"
   ]
  },
  {
   "cell_type": "code",
   "execution_count": 2,
   "metadata": {},
   "outputs": [],
   "source": [
    "## reading dataset\n",
    "df1=pd.read_csv(\"Wine.csv\")"
   ]
  },
  {
   "cell_type": "code",
   "execution_count": 3,
   "metadata": {},
   "outputs": [
    {
     "data": {
      "text/html": [
       "<div>\n",
       "<style scoped>\n",
       "    .dataframe tbody tr th:only-of-type {\n",
       "        vertical-align: middle;\n",
       "    }\n",
       "\n",
       "    .dataframe tbody tr th {\n",
       "        vertical-align: top;\n",
       "    }\n",
       "\n",
       "    .dataframe thead th {\n",
       "        text-align: right;\n",
       "    }\n",
       "</style>\n",
       "<table border=\"1\" class=\"dataframe\">\n",
       "  <thead>\n",
       "    <tr style=\"text-align: right;\">\n",
       "      <th></th>\n",
       "      <th>Alcohol</th>\n",
       "      <th>Malic_Acid</th>\n",
       "      <th>Ash</th>\n",
       "      <th>Ash_Alcanity</th>\n",
       "      <th>Magnesium</th>\n",
       "      <th>Total_Phenols</th>\n",
       "      <th>Flavanoids</th>\n",
       "      <th>Nonflavanoid_Phenols</th>\n",
       "      <th>Proanthocyanins</th>\n",
       "      <th>Color_Intensity</th>\n",
       "      <th>Hue</th>\n",
       "      <th>OD280</th>\n",
       "      <th>Proline</th>\n",
       "    </tr>\n",
       "  </thead>\n",
       "  <tbody>\n",
       "    <tr>\n",
       "      <th>0</th>\n",
       "      <td>14.23</td>\n",
       "      <td>1.71</td>\n",
       "      <td>2.43</td>\n",
       "      <td>15.6</td>\n",
       "      <td>127</td>\n",
       "      <td>2.80</td>\n",
       "      <td>3.06</td>\n",
       "      <td>0.28</td>\n",
       "      <td>2.29</td>\n",
       "      <td>5.64</td>\n",
       "      <td>1.04</td>\n",
       "      <td>3.92</td>\n",
       "      <td>1065</td>\n",
       "    </tr>\n",
       "    <tr>\n",
       "      <th>1</th>\n",
       "      <td>13.20</td>\n",
       "      <td>1.78</td>\n",
       "      <td>2.14</td>\n",
       "      <td>11.2</td>\n",
       "      <td>100</td>\n",
       "      <td>2.65</td>\n",
       "      <td>2.76</td>\n",
       "      <td>0.26</td>\n",
       "      <td>1.28</td>\n",
       "      <td>4.38</td>\n",
       "      <td>1.05</td>\n",
       "      <td>3.40</td>\n",
       "      <td>1050</td>\n",
       "    </tr>\n",
       "    <tr>\n",
       "      <th>2</th>\n",
       "      <td>13.16</td>\n",
       "      <td>2.36</td>\n",
       "      <td>2.67</td>\n",
       "      <td>18.6</td>\n",
       "      <td>101</td>\n",
       "      <td>2.80</td>\n",
       "      <td>3.24</td>\n",
       "      <td>0.30</td>\n",
       "      <td>2.81</td>\n",
       "      <td>5.68</td>\n",
       "      <td>1.03</td>\n",
       "      <td>3.17</td>\n",
       "      <td>1185</td>\n",
       "    </tr>\n",
       "    <tr>\n",
       "      <th>3</th>\n",
       "      <td>14.37</td>\n",
       "      <td>1.95</td>\n",
       "      <td>2.50</td>\n",
       "      <td>16.8</td>\n",
       "      <td>113</td>\n",
       "      <td>3.85</td>\n",
       "      <td>3.49</td>\n",
       "      <td>0.24</td>\n",
       "      <td>2.18</td>\n",
       "      <td>7.80</td>\n",
       "      <td>0.86</td>\n",
       "      <td>3.45</td>\n",
       "      <td>1480</td>\n",
       "    </tr>\n",
       "    <tr>\n",
       "      <th>4</th>\n",
       "      <td>13.24</td>\n",
       "      <td>2.59</td>\n",
       "      <td>2.87</td>\n",
       "      <td>21.0</td>\n",
       "      <td>118</td>\n",
       "      <td>2.80</td>\n",
       "      <td>2.69</td>\n",
       "      <td>0.39</td>\n",
       "      <td>1.82</td>\n",
       "      <td>4.32</td>\n",
       "      <td>1.04</td>\n",
       "      <td>2.93</td>\n",
       "      <td>735</td>\n",
       "    </tr>\n",
       "  </tbody>\n",
       "</table>\n",
       "</div>"
      ],
      "text/plain": [
       "   Alcohol  Malic_Acid   Ash  Ash_Alcanity  Magnesium  Total_Phenols  \\\n",
       "0    14.23        1.71  2.43          15.6        127           2.80   \n",
       "1    13.20        1.78  2.14          11.2        100           2.65   \n",
       "2    13.16        2.36  2.67          18.6        101           2.80   \n",
       "3    14.37        1.95  2.50          16.8        113           3.85   \n",
       "4    13.24        2.59  2.87          21.0        118           2.80   \n",
       "\n",
       "   Flavanoids  Nonflavanoid_Phenols  Proanthocyanins  Color_Intensity   Hue  \\\n",
       "0        3.06                  0.28             2.29             5.64  1.04   \n",
       "1        2.76                  0.26             1.28             4.38  1.05   \n",
       "2        3.24                  0.30             2.81             5.68  1.03   \n",
       "3        3.49                  0.24             2.18             7.80  0.86   \n",
       "4        2.69                  0.39             1.82             4.32  1.04   \n",
       "\n",
       "   OD280  Proline  \n",
       "0   3.92     1065  \n",
       "1   3.40     1050  \n",
       "2   3.17     1185  \n",
       "3   3.45     1480  \n",
       "4   2.93      735  "
      ]
     },
     "execution_count": 3,
     "metadata": {},
     "output_type": "execute_result"
    }
   ],
   "source": [
    "## first 5 rows\n",
    "df1.head()"
   ]
  },
  {
   "cell_type": "code",
   "execution_count": 4,
   "metadata": {},
   "outputs": [
    {
     "data": {
      "text/plain": [
       "(178, 13)"
      ]
     },
     "execution_count": 4,
     "metadata": {},
     "output_type": "execute_result"
    }
   ],
   "source": [
    "## shape\n",
    "df1.shape"
   ]
  },
  {
   "cell_type": "markdown",
   "metadata": {},
   "source": [
    "<i> There are 178 rows and 13 columns.</i>"
   ]
  },
  {
   "cell_type": "markdown",
   "metadata": {},
   "source": [
    "<b>Preprocessing</b>"
   ]
  },
  {
   "cell_type": "code",
   "execution_count": 5,
   "metadata": {},
   "outputs": [
    {
     "data": {
      "text/plain": [
       "Alcohol                 0\n",
       "Malic_Acid              0\n",
       "Ash                     0\n",
       "Ash_Alcanity            0\n",
       "Magnesium               0\n",
       "Total_Phenols           0\n",
       "Flavanoids              0\n",
       "Nonflavanoid_Phenols    0\n",
       "Proanthocyanins         0\n",
       "Color_Intensity         0\n",
       "Hue                     0\n",
       "OD280                   0\n",
       "Proline                 0\n",
       "dtype: int64"
      ]
     },
     "execution_count": 5,
     "metadata": {},
     "output_type": "execute_result"
    }
   ],
   "source": [
    "## Checking for Null value\n",
    "df1.isnull().sum()"
   ]
  },
  {
   "cell_type": "markdown",
   "metadata": {},
   "source": [
    "<i>No NULL values.</i>"
   ]
  },
  {
   "cell_type": "code",
   "execution_count": 6,
   "metadata": {
    "scrolled": true
   },
   "outputs": [],
   "source": [
    "# plt.figure(figsize=(10,10))\n",
    "# sns.pairplot(df1,diag_kind=\"kde\")\n",
    "# plt.show()"
   ]
  },
  {
   "cell_type": "code",
   "execution_count": 7,
   "metadata": {},
   "outputs": [
    {
     "data": {
      "text/plain": [
       "0"
      ]
     },
     "execution_count": 7,
     "metadata": {},
     "output_type": "execute_result"
    }
   ],
   "source": [
    "## checking for duplicates\n",
    "df1.duplicated().sum()"
   ]
  },
  {
   "cell_type": "markdown",
   "metadata": {},
   "source": [
    "<i>No duplicates.</i>"
   ]
  },
  {
   "cell_type": "code",
   "execution_count": 8,
   "metadata": {},
   "outputs": [
    {
     "data": {
      "text/html": [
       "<div>\n",
       "<style scoped>\n",
       "    .dataframe tbody tr th:only-of-type {\n",
       "        vertical-align: middle;\n",
       "    }\n",
       "\n",
       "    .dataframe tbody tr th {\n",
       "        vertical-align: top;\n",
       "    }\n",
       "\n",
       "    .dataframe thead th {\n",
       "        text-align: right;\n",
       "    }\n",
       "</style>\n",
       "<table border=\"1\" class=\"dataframe\">\n",
       "  <thead>\n",
       "    <tr style=\"text-align: right;\">\n",
       "      <th></th>\n",
       "      <th>Alcohol</th>\n",
       "      <th>Malic_Acid</th>\n",
       "      <th>Ash</th>\n",
       "      <th>Ash_Alcanity</th>\n",
       "      <th>Magnesium</th>\n",
       "      <th>Total_Phenols</th>\n",
       "      <th>Flavanoids</th>\n",
       "      <th>Nonflavanoid_Phenols</th>\n",
       "      <th>Proanthocyanins</th>\n",
       "      <th>Color_Intensity</th>\n",
       "      <th>Hue</th>\n",
       "      <th>OD280</th>\n",
       "      <th>Proline</th>\n",
       "    </tr>\n",
       "  </thead>\n",
       "  <tbody>\n",
       "    <tr>\n",
       "      <th>count</th>\n",
       "      <td>178.000000</td>\n",
       "      <td>178.000000</td>\n",
       "      <td>178.000000</td>\n",
       "      <td>178.000000</td>\n",
       "      <td>178.000000</td>\n",
       "      <td>178.000000</td>\n",
       "      <td>178.000000</td>\n",
       "      <td>178.000000</td>\n",
       "      <td>178.000000</td>\n",
       "      <td>178.000000</td>\n",
       "      <td>178.000000</td>\n",
       "      <td>178.000000</td>\n",
       "      <td>178.000000</td>\n",
       "    </tr>\n",
       "    <tr>\n",
       "      <th>mean</th>\n",
       "      <td>13.000618</td>\n",
       "      <td>2.336348</td>\n",
       "      <td>2.366517</td>\n",
       "      <td>19.494944</td>\n",
       "      <td>99.741573</td>\n",
       "      <td>2.295112</td>\n",
       "      <td>2.029270</td>\n",
       "      <td>0.361854</td>\n",
       "      <td>1.590899</td>\n",
       "      <td>5.058090</td>\n",
       "      <td>0.957449</td>\n",
       "      <td>2.611685</td>\n",
       "      <td>746.893258</td>\n",
       "    </tr>\n",
       "    <tr>\n",
       "      <th>std</th>\n",
       "      <td>0.811827</td>\n",
       "      <td>1.117146</td>\n",
       "      <td>0.274344</td>\n",
       "      <td>3.339564</td>\n",
       "      <td>14.282484</td>\n",
       "      <td>0.625851</td>\n",
       "      <td>0.998859</td>\n",
       "      <td>0.124453</td>\n",
       "      <td>0.572359</td>\n",
       "      <td>2.318286</td>\n",
       "      <td>0.228572</td>\n",
       "      <td>0.709990</td>\n",
       "      <td>314.907474</td>\n",
       "    </tr>\n",
       "    <tr>\n",
       "      <th>min</th>\n",
       "      <td>11.030000</td>\n",
       "      <td>0.740000</td>\n",
       "      <td>1.360000</td>\n",
       "      <td>10.600000</td>\n",
       "      <td>70.000000</td>\n",
       "      <td>0.980000</td>\n",
       "      <td>0.340000</td>\n",
       "      <td>0.130000</td>\n",
       "      <td>0.410000</td>\n",
       "      <td>1.280000</td>\n",
       "      <td>0.480000</td>\n",
       "      <td>1.270000</td>\n",
       "      <td>278.000000</td>\n",
       "    </tr>\n",
       "    <tr>\n",
       "      <th>25%</th>\n",
       "      <td>12.362500</td>\n",
       "      <td>1.602500</td>\n",
       "      <td>2.210000</td>\n",
       "      <td>17.200000</td>\n",
       "      <td>88.000000</td>\n",
       "      <td>1.742500</td>\n",
       "      <td>1.205000</td>\n",
       "      <td>0.270000</td>\n",
       "      <td>1.250000</td>\n",
       "      <td>3.220000</td>\n",
       "      <td>0.782500</td>\n",
       "      <td>1.937500</td>\n",
       "      <td>500.500000</td>\n",
       "    </tr>\n",
       "    <tr>\n",
       "      <th>50%</th>\n",
       "      <td>13.050000</td>\n",
       "      <td>1.865000</td>\n",
       "      <td>2.360000</td>\n",
       "      <td>19.500000</td>\n",
       "      <td>98.000000</td>\n",
       "      <td>2.355000</td>\n",
       "      <td>2.135000</td>\n",
       "      <td>0.340000</td>\n",
       "      <td>1.555000</td>\n",
       "      <td>4.690000</td>\n",
       "      <td>0.965000</td>\n",
       "      <td>2.780000</td>\n",
       "      <td>673.500000</td>\n",
       "    </tr>\n",
       "    <tr>\n",
       "      <th>75%</th>\n",
       "      <td>13.677500</td>\n",
       "      <td>3.082500</td>\n",
       "      <td>2.557500</td>\n",
       "      <td>21.500000</td>\n",
       "      <td>107.000000</td>\n",
       "      <td>2.800000</td>\n",
       "      <td>2.875000</td>\n",
       "      <td>0.437500</td>\n",
       "      <td>1.950000</td>\n",
       "      <td>6.200000</td>\n",
       "      <td>1.120000</td>\n",
       "      <td>3.170000</td>\n",
       "      <td>985.000000</td>\n",
       "    </tr>\n",
       "    <tr>\n",
       "      <th>max</th>\n",
       "      <td>14.830000</td>\n",
       "      <td>5.800000</td>\n",
       "      <td>3.230000</td>\n",
       "      <td>30.000000</td>\n",
       "      <td>162.000000</td>\n",
       "      <td>3.880000</td>\n",
       "      <td>5.080000</td>\n",
       "      <td>0.660000</td>\n",
       "      <td>3.580000</td>\n",
       "      <td>13.000000</td>\n",
       "      <td>1.710000</td>\n",
       "      <td>4.000000</td>\n",
       "      <td>1680.000000</td>\n",
       "    </tr>\n",
       "  </tbody>\n",
       "</table>\n",
       "</div>"
      ],
      "text/plain": [
       "          Alcohol  Malic_Acid         Ash  Ash_Alcanity   Magnesium  \\\n",
       "count  178.000000  178.000000  178.000000    178.000000  178.000000   \n",
       "mean    13.000618    2.336348    2.366517     19.494944   99.741573   \n",
       "std      0.811827    1.117146    0.274344      3.339564   14.282484   \n",
       "min     11.030000    0.740000    1.360000     10.600000   70.000000   \n",
       "25%     12.362500    1.602500    2.210000     17.200000   88.000000   \n",
       "50%     13.050000    1.865000    2.360000     19.500000   98.000000   \n",
       "75%     13.677500    3.082500    2.557500     21.500000  107.000000   \n",
       "max     14.830000    5.800000    3.230000     30.000000  162.000000   \n",
       "\n",
       "       Total_Phenols  Flavanoids  Nonflavanoid_Phenols  Proanthocyanins  \\\n",
       "count     178.000000  178.000000            178.000000       178.000000   \n",
       "mean        2.295112    2.029270              0.361854         1.590899   \n",
       "std         0.625851    0.998859              0.124453         0.572359   \n",
       "min         0.980000    0.340000              0.130000         0.410000   \n",
       "25%         1.742500    1.205000              0.270000         1.250000   \n",
       "50%         2.355000    2.135000              0.340000         1.555000   \n",
       "75%         2.800000    2.875000              0.437500         1.950000   \n",
       "max         3.880000    5.080000              0.660000         3.580000   \n",
       "\n",
       "       Color_Intensity         Hue       OD280      Proline  \n",
       "count       178.000000  178.000000  178.000000   178.000000  \n",
       "mean          5.058090    0.957449    2.611685   746.893258  \n",
       "std           2.318286    0.228572    0.709990   314.907474  \n",
       "min           1.280000    0.480000    1.270000   278.000000  \n",
       "25%           3.220000    0.782500    1.937500   500.500000  \n",
       "50%           4.690000    0.965000    2.780000   673.500000  \n",
       "75%           6.200000    1.120000    3.170000   985.000000  \n",
       "max          13.000000    1.710000    4.000000  1680.000000  "
      ]
     },
     "execution_count": 8,
     "metadata": {},
     "output_type": "execute_result"
    }
   ],
   "source": [
    "## statistical summary of dataset\n",
    "df1.describe()"
   ]
  },
  {
   "cell_type": "code",
   "execution_count": 9,
   "metadata": {},
   "outputs": [],
   "source": [
    "## normalizing the dataset\n",
    "from sklearn.preprocessing import Normalizer\n",
    "normal=Normalizer()\n",
    "df2=normal.fit_transform(df1)"
   ]
  },
  {
   "cell_type": "code",
   "execution_count": 10,
   "metadata": {},
   "outputs": [],
   "source": [
    "## converting to dataframe\n",
    "df2=pd.DataFrame(df2)"
   ]
  },
  {
   "cell_type": "code",
   "execution_count": 11,
   "metadata": {},
   "outputs": [
    {
     "data": {
      "text/html": [
       "<div>\n",
       "<style scoped>\n",
       "    .dataframe tbody tr th:only-of-type {\n",
       "        vertical-align: middle;\n",
       "    }\n",
       "\n",
       "    .dataframe tbody tr th {\n",
       "        vertical-align: top;\n",
       "    }\n",
       "\n",
       "    .dataframe thead th {\n",
       "        text-align: right;\n",
       "    }\n",
       "</style>\n",
       "<table border=\"1\" class=\"dataframe\">\n",
       "  <thead>\n",
       "    <tr style=\"text-align: right;\">\n",
       "      <th></th>\n",
       "      <th>0</th>\n",
       "      <th>1</th>\n",
       "      <th>2</th>\n",
       "      <th>3</th>\n",
       "      <th>4</th>\n",
       "      <th>5</th>\n",
       "      <th>6</th>\n",
       "      <th>7</th>\n",
       "      <th>8</th>\n",
       "      <th>9</th>\n",
       "      <th>10</th>\n",
       "      <th>11</th>\n",
       "      <th>12</th>\n",
       "    </tr>\n",
       "  </thead>\n",
       "  <tbody>\n",
       "    <tr>\n",
       "      <th>count</th>\n",
       "      <td>178.000000</td>\n",
       "      <td>178.000000</td>\n",
       "      <td>178.000000</td>\n",
       "      <td>178.000000</td>\n",
       "      <td>178.000000</td>\n",
       "      <td>178.000000</td>\n",
       "      <td>178.000000</td>\n",
       "      <td>178.000000</td>\n",
       "      <td>178.000000</td>\n",
       "      <td>178.000000</td>\n",
       "      <td>178.000000</td>\n",
       "      <td>178.000000</td>\n",
       "      <td>178.000000</td>\n",
       "    </tr>\n",
       "    <tr>\n",
       "      <th>mean</th>\n",
       "      <td>0.019950</td>\n",
       "      <td>0.003711</td>\n",
       "      <td>0.003644</td>\n",
       "      <td>0.031124</td>\n",
       "      <td>0.151541</td>\n",
       "      <td>0.003444</td>\n",
       "      <td>0.002973</td>\n",
       "      <td>0.000581</td>\n",
       "      <td>0.002396</td>\n",
       "      <td>0.007342</td>\n",
       "      <td>0.001477</td>\n",
       "      <td>0.003993</td>\n",
       "      <td>0.986018</td>\n",
       "    </tr>\n",
       "    <tr>\n",
       "      <th>std</th>\n",
       "      <td>0.007321</td>\n",
       "      <td>0.002499</td>\n",
       "      <td>0.001409</td>\n",
       "      <td>0.014671</td>\n",
       "      <td>0.054081</td>\n",
       "      <td>0.001543</td>\n",
       "      <td>0.001802</td>\n",
       "      <td>0.000327</td>\n",
       "      <td>0.001249</td>\n",
       "      <td>0.003843</td>\n",
       "      <td>0.000736</td>\n",
       "      <td>0.001979</td>\n",
       "      <td>0.010073</td>\n",
       "    </tr>\n",
       "    <tr>\n",
       "      <th>min</th>\n",
       "      <td>0.008428</td>\n",
       "      <td>0.000944</td>\n",
       "      <td>0.001473</td>\n",
       "      <td>0.007739</td>\n",
       "      <td>0.064147</td>\n",
       "      <td>0.001255</td>\n",
       "      <td>0.000637</td>\n",
       "      <td>0.000145</td>\n",
       "      <td>0.000554</td>\n",
       "      <td>0.002241</td>\n",
       "      <td>0.000579</td>\n",
       "      <td>0.001675</td>\n",
       "      <td>0.951812</td>\n",
       "    </tr>\n",
       "    <tr>\n",
       "      <th>25%</th>\n",
       "      <td>0.013548</td>\n",
       "      <td>0.001684</td>\n",
       "      <td>0.002359</td>\n",
       "      <td>0.017615</td>\n",
       "      <td>0.109775</td>\n",
       "      <td>0.002385</td>\n",
       "      <td>0.001746</td>\n",
       "      <td>0.000277</td>\n",
       "      <td>0.001515</td>\n",
       "      <td>0.004612</td>\n",
       "      <td>0.000970</td>\n",
       "      <td>0.002535</td>\n",
       "      <td>0.981687</td>\n",
       "    </tr>\n",
       "    <tr>\n",
       "      <th>50%</th>\n",
       "      <td>0.018984</td>\n",
       "      <td>0.003174</td>\n",
       "      <td>0.003468</td>\n",
       "      <td>0.030036</td>\n",
       "      <td>0.146777</td>\n",
       "      <td>0.002946</td>\n",
       "      <td>0.002721</td>\n",
       "      <td>0.000514</td>\n",
       "      <td>0.002030</td>\n",
       "      <td>0.005981</td>\n",
       "      <td>0.001232</td>\n",
       "      <td>0.003384</td>\n",
       "      <td>0.988441</td>\n",
       "    </tr>\n",
       "    <tr>\n",
       "      <th>75%</th>\n",
       "      <td>0.024783</td>\n",
       "      <td>0.004981</td>\n",
       "      <td>0.004506</td>\n",
       "      <td>0.040010</td>\n",
       "      <td>0.183082</td>\n",
       "      <td>0.003886</td>\n",
       "      <td>0.003551</td>\n",
       "      <td>0.000833</td>\n",
       "      <td>0.003040</td>\n",
       "      <td>0.008853</td>\n",
       "      <td>0.001834</td>\n",
       "      <td>0.004870</td>\n",
       "      <td>0.993564</td>\n",
       "    </tr>\n",
       "    <tr>\n",
       "      <th>max</th>\n",
       "      <td>0.041106</td>\n",
       "      <td>0.014852</td>\n",
       "      <td>0.007305</td>\n",
       "      <td>0.069703</td>\n",
       "      <td>0.297958</td>\n",
       "      <td>0.008404</td>\n",
       "      <td>0.010560</td>\n",
       "      <td>0.002008</td>\n",
       "      <td>0.007469</td>\n",
       "      <td>0.021876</td>\n",
       "      <td>0.004727</td>\n",
       "      <td>0.010858</td>\n",
       "      <td>0.997835</td>\n",
       "    </tr>\n",
       "  </tbody>\n",
       "</table>\n",
       "</div>"
      ],
      "text/plain": [
       "               0           1           2           3           4           5   \\\n",
       "count  178.000000  178.000000  178.000000  178.000000  178.000000  178.000000   \n",
       "mean     0.019950    0.003711    0.003644    0.031124    0.151541    0.003444   \n",
       "std      0.007321    0.002499    0.001409    0.014671    0.054081    0.001543   \n",
       "min      0.008428    0.000944    0.001473    0.007739    0.064147    0.001255   \n",
       "25%      0.013548    0.001684    0.002359    0.017615    0.109775    0.002385   \n",
       "50%      0.018984    0.003174    0.003468    0.030036    0.146777    0.002946   \n",
       "75%      0.024783    0.004981    0.004506    0.040010    0.183082    0.003886   \n",
       "max      0.041106    0.014852    0.007305    0.069703    0.297958    0.008404   \n",
       "\n",
       "               6           7           8           9           10          11  \\\n",
       "count  178.000000  178.000000  178.000000  178.000000  178.000000  178.000000   \n",
       "mean     0.002973    0.000581    0.002396    0.007342    0.001477    0.003993   \n",
       "std      0.001802    0.000327    0.001249    0.003843    0.000736    0.001979   \n",
       "min      0.000637    0.000145    0.000554    0.002241    0.000579    0.001675   \n",
       "25%      0.001746    0.000277    0.001515    0.004612    0.000970    0.002535   \n",
       "50%      0.002721    0.000514    0.002030    0.005981    0.001232    0.003384   \n",
       "75%      0.003551    0.000833    0.003040    0.008853    0.001834    0.004870   \n",
       "max      0.010560    0.002008    0.007469    0.021876    0.004727    0.010858   \n",
       "\n",
       "               12  \n",
       "count  178.000000  \n",
       "mean     0.986018  \n",
       "std      0.010073  \n",
       "min      0.951812  \n",
       "25%      0.981687  \n",
       "50%      0.988441  \n",
       "75%      0.993564  \n",
       "max      0.997835  "
      ]
     },
     "execution_count": 11,
     "metadata": {},
     "output_type": "execute_result"
    }
   ],
   "source": [
    "## dataset statistics after normalizing\n",
    "df2.describe()"
   ]
  },
  {
   "cell_type": "code",
   "execution_count": 12,
   "metadata": {},
   "outputs": [
    {
     "data": {
      "text/html": [
       "<div>\n",
       "<style scoped>\n",
       "    .dataframe tbody tr th:only-of-type {\n",
       "        vertical-align: middle;\n",
       "    }\n",
       "\n",
       "    .dataframe tbody tr th {\n",
       "        vertical-align: top;\n",
       "    }\n",
       "\n",
       "    .dataframe thead th {\n",
       "        text-align: right;\n",
       "    }\n",
       "</style>\n",
       "<table border=\"1\" class=\"dataframe\">\n",
       "  <thead>\n",
       "    <tr style=\"text-align: right;\">\n",
       "      <th></th>\n",
       "      <th>0</th>\n",
       "      <th>1</th>\n",
       "      <th>2</th>\n",
       "      <th>3</th>\n",
       "      <th>4</th>\n",
       "      <th>5</th>\n",
       "      <th>6</th>\n",
       "      <th>7</th>\n",
       "      <th>8</th>\n",
       "      <th>9</th>\n",
       "      <th>10</th>\n",
       "      <th>11</th>\n",
       "      <th>12</th>\n",
       "    </tr>\n",
       "  </thead>\n",
       "  <tbody>\n",
       "    <tr>\n",
       "      <th>0</th>\n",
       "      <td>0.013264</td>\n",
       "      <td>0.001594</td>\n",
       "      <td>0.002265</td>\n",
       "      <td>0.014542</td>\n",
       "      <td>0.118383</td>\n",
       "      <td>0.002610</td>\n",
       "      <td>0.002852</td>\n",
       "      <td>0.000261</td>\n",
       "      <td>0.002135</td>\n",
       "      <td>0.005257</td>\n",
       "      <td>0.000969</td>\n",
       "      <td>0.003654</td>\n",
       "      <td>0.992738</td>\n",
       "    </tr>\n",
       "    <tr>\n",
       "      <th>1</th>\n",
       "      <td>0.012513</td>\n",
       "      <td>0.001687</td>\n",
       "      <td>0.002029</td>\n",
       "      <td>0.010617</td>\n",
       "      <td>0.094794</td>\n",
       "      <td>0.002512</td>\n",
       "      <td>0.002616</td>\n",
       "      <td>0.000246</td>\n",
       "      <td>0.001213</td>\n",
       "      <td>0.004152</td>\n",
       "      <td>0.000995</td>\n",
       "      <td>0.003223</td>\n",
       "      <td>0.995336</td>\n",
       "    </tr>\n",
       "    <tr>\n",
       "      <th>2</th>\n",
       "      <td>0.011063</td>\n",
       "      <td>0.001984</td>\n",
       "      <td>0.002245</td>\n",
       "      <td>0.015636</td>\n",
       "      <td>0.084906</td>\n",
       "      <td>0.002354</td>\n",
       "      <td>0.002724</td>\n",
       "      <td>0.000252</td>\n",
       "      <td>0.002362</td>\n",
       "      <td>0.004775</td>\n",
       "      <td>0.000866</td>\n",
       "      <td>0.002665</td>\n",
       "      <td>0.996176</td>\n",
       "    </tr>\n",
       "    <tr>\n",
       "      <th>3</th>\n",
       "      <td>0.009680</td>\n",
       "      <td>0.001314</td>\n",
       "      <td>0.001684</td>\n",
       "      <td>0.011317</td>\n",
       "      <td>0.076119</td>\n",
       "      <td>0.002593</td>\n",
       "      <td>0.002351</td>\n",
       "      <td>0.000162</td>\n",
       "      <td>0.001468</td>\n",
       "      <td>0.005254</td>\n",
       "      <td>0.000579</td>\n",
       "      <td>0.002324</td>\n",
       "      <td>0.996961</td>\n",
       "    </tr>\n",
       "    <tr>\n",
       "      <th>4</th>\n",
       "      <td>0.017775</td>\n",
       "      <td>0.003477</td>\n",
       "      <td>0.003853</td>\n",
       "      <td>0.028193</td>\n",
       "      <td>0.158418</td>\n",
       "      <td>0.003759</td>\n",
       "      <td>0.003611</td>\n",
       "      <td>0.000524</td>\n",
       "      <td>0.002443</td>\n",
       "      <td>0.005800</td>\n",
       "      <td>0.001396</td>\n",
       "      <td>0.003934</td>\n",
       "      <td>0.986753</td>\n",
       "    </tr>\n",
       "  </tbody>\n",
       "</table>\n",
       "</div>"
      ],
      "text/plain": [
       "         0         1         2         3         4         5         6   \\\n",
       "0  0.013264  0.001594  0.002265  0.014542  0.118383  0.002610  0.002852   \n",
       "1  0.012513  0.001687  0.002029  0.010617  0.094794  0.002512  0.002616   \n",
       "2  0.011063  0.001984  0.002245  0.015636  0.084906  0.002354  0.002724   \n",
       "3  0.009680  0.001314  0.001684  0.011317  0.076119  0.002593  0.002351   \n",
       "4  0.017775  0.003477  0.003853  0.028193  0.158418  0.003759  0.003611   \n",
       "\n",
       "         7         8         9         10        11        12  \n",
       "0  0.000261  0.002135  0.005257  0.000969  0.003654  0.992738  \n",
       "1  0.000246  0.001213  0.004152  0.000995  0.003223  0.995336  \n",
       "2  0.000252  0.002362  0.004775  0.000866  0.002665  0.996176  \n",
       "3  0.000162  0.001468  0.005254  0.000579  0.002324  0.996961  \n",
       "4  0.000524  0.002443  0.005800  0.001396  0.003934  0.986753  "
      ]
     },
     "execution_count": 12,
     "metadata": {},
     "output_type": "execute_result"
    }
   ],
   "source": [
    "## first 5 lines after normalizing\n",
    "df2.head()"
   ]
  },
  {
   "cell_type": "code",
   "execution_count": 13,
   "metadata": {},
   "outputs": [
    {
     "data": {
      "text/plain": [
       "(178, 2)"
      ]
     },
     "execution_count": 13,
     "metadata": {},
     "output_type": "execute_result"
    }
   ],
   "source": [
    "## PCA to reduce the number of features\n",
    "from sklearn.decomposition import PCA\n",
    "pca = PCA(n_components = 2)\n",
    "pca.fit(df2)\n",
    "x_pca = pca.transform(df2)\n",
    "x_pca.shape"
   ]
  },
  {
   "cell_type": "markdown",
   "metadata": {},
   "source": [
    "<i>The dataset is reduced to 2 features.</i>"
   ]
  },
  {
   "cell_type": "code",
   "execution_count": 14,
   "metadata": {
    "scrolled": true
   },
   "outputs": [
    {
     "data": {
      "text/plain": [
       "Index(['Alcohol', 'Malic_Acid', 'Ash', 'Ash_Alcanity', 'Magnesium',\n",
       "       'Total_Phenols', 'Flavanoids', 'Nonflavanoid_Phenols',\n",
       "       'Proanthocyanins', 'Color_Intensity', 'Hue', 'OD280', 'Proline'],\n",
       "      dtype='object')"
      ]
     },
     "execution_count": 14,
     "metadata": {},
     "output_type": "execute_result"
    }
   ],
   "source": [
    "## all columns names\n",
    "df1.columns"
   ]
  },
  {
   "cell_type": "code",
   "execution_count": 15,
   "metadata": {},
   "outputs": [
    {
     "name": "stdout",
     "output_type": "stream",
     "text": [
      "[[0.11967376 0.02493389 0.02287173 0.2334577  0.9475191  0.02006888\n",
      "  0.01730099 0.00397612 0.01438307 0.02402529 0.0098415  0.02579363\n",
      "  0.17313082]\n",
      " [0.25819916 0.11280463 0.06416612 0.91265935 0.2604945  0.02946121\n",
      "  0.01570738 0.01883443 0.02177346 0.09869587 0.00852837 0.0504888\n",
      "  0.03715241]]\n"
     ]
    }
   ],
   "source": [
    "## printing pca.components_ value\n",
    "print(abs(pca.components_))"
   ]
  },
  {
   "cell_type": "code",
   "execution_count": 16,
   "metadata": {},
   "outputs": [],
   "source": [
    "## converting to dataframe\n",
    "df2=pd.DataFrame(abs(pca.components_))"
   ]
  },
  {
   "cell_type": "code",
   "execution_count": 17,
   "metadata": {},
   "outputs": [
    {
     "data": {
      "text/html": [
       "<div>\n",
       "<style scoped>\n",
       "    .dataframe tbody tr th:only-of-type {\n",
       "        vertical-align: middle;\n",
       "    }\n",
       "\n",
       "    .dataframe tbody tr th {\n",
       "        vertical-align: top;\n",
       "    }\n",
       "\n",
       "    .dataframe thead th {\n",
       "        text-align: right;\n",
       "    }\n",
       "</style>\n",
       "<table border=\"1\" class=\"dataframe\">\n",
       "  <thead>\n",
       "    <tr style=\"text-align: right;\">\n",
       "      <th></th>\n",
       "      <th>0</th>\n",
       "      <th>1</th>\n",
       "      <th>2</th>\n",
       "      <th>3</th>\n",
       "      <th>4</th>\n",
       "      <th>5</th>\n",
       "      <th>6</th>\n",
       "      <th>7</th>\n",
       "      <th>8</th>\n",
       "      <th>9</th>\n",
       "      <th>10</th>\n",
       "      <th>11</th>\n",
       "      <th>12</th>\n",
       "    </tr>\n",
       "  </thead>\n",
       "  <tbody>\n",
       "    <tr>\n",
       "      <th>0</th>\n",
       "      <td>0.119674</td>\n",
       "      <td>0.024934</td>\n",
       "      <td>0.022872</td>\n",
       "      <td>0.233458</td>\n",
       "      <td>0.947519</td>\n",
       "      <td>0.020069</td>\n",
       "      <td>0.017301</td>\n",
       "      <td>0.003976</td>\n",
       "      <td>0.014383</td>\n",
       "      <td>0.024025</td>\n",
       "      <td>0.009841</td>\n",
       "      <td>0.025794</td>\n",
       "      <td>0.173131</td>\n",
       "    </tr>\n",
       "    <tr>\n",
       "      <th>1</th>\n",
       "      <td>0.258199</td>\n",
       "      <td>0.112805</td>\n",
       "      <td>0.064166</td>\n",
       "      <td>0.912659</td>\n",
       "      <td>0.260495</td>\n",
       "      <td>0.029461</td>\n",
       "      <td>0.015707</td>\n",
       "      <td>0.018834</td>\n",
       "      <td>0.021773</td>\n",
       "      <td>0.098696</td>\n",
       "      <td>0.008528</td>\n",
       "      <td>0.050489</td>\n",
       "      <td>0.037152</td>\n",
       "    </tr>\n",
       "  </tbody>\n",
       "</table>\n",
       "</div>"
      ],
      "text/plain": [
       "         0         1         2         3         4         5         6   \\\n",
       "0  0.119674  0.024934  0.022872  0.233458  0.947519  0.020069  0.017301   \n",
       "1  0.258199  0.112805  0.064166  0.912659  0.260495  0.029461  0.015707   \n",
       "\n",
       "         7         8         9         10        11        12  \n",
       "0  0.003976  0.014383  0.024025  0.009841  0.025794  0.173131  \n",
       "1  0.018834  0.021773  0.098696  0.008528  0.050489  0.037152  "
      ]
     },
     "execution_count": 17,
     "metadata": {},
     "output_type": "execute_result"
    }
   ],
   "source": [
    "df2.head()"
   ]
  },
  {
   "cell_type": "code",
   "execution_count": 18,
   "metadata": {},
   "outputs": [],
   "source": [
    "## interchanging rows and columns\n",
    "df3=df2.T"
   ]
  },
  {
   "cell_type": "code",
   "execution_count": 19,
   "metadata": {},
   "outputs": [
    {
     "data": {
      "text/html": [
       "<div>\n",
       "<style scoped>\n",
       "    .dataframe tbody tr th:only-of-type {\n",
       "        vertical-align: middle;\n",
       "    }\n",
       "\n",
       "    .dataframe tbody tr th {\n",
       "        vertical-align: top;\n",
       "    }\n",
       "\n",
       "    .dataframe thead th {\n",
       "        text-align: right;\n",
       "    }\n",
       "</style>\n",
       "<table border=\"1\" class=\"dataframe\">\n",
       "  <thead>\n",
       "    <tr style=\"text-align: right;\">\n",
       "      <th></th>\n",
       "      <th>0</th>\n",
       "      <th>1</th>\n",
       "    </tr>\n",
       "  </thead>\n",
       "  <tbody>\n",
       "    <tr>\n",
       "      <th>0</th>\n",
       "      <td>0.119674</td>\n",
       "      <td>0.258199</td>\n",
       "    </tr>\n",
       "    <tr>\n",
       "      <th>1</th>\n",
       "      <td>0.024934</td>\n",
       "      <td>0.112805</td>\n",
       "    </tr>\n",
       "    <tr>\n",
       "      <th>2</th>\n",
       "      <td>0.022872</td>\n",
       "      <td>0.064166</td>\n",
       "    </tr>\n",
       "    <tr>\n",
       "      <th>3</th>\n",
       "      <td>0.233458</td>\n",
       "      <td>0.912659</td>\n",
       "    </tr>\n",
       "    <tr>\n",
       "      <th>4</th>\n",
       "      <td>0.947519</td>\n",
       "      <td>0.260495</td>\n",
       "    </tr>\n",
       "  </tbody>\n",
       "</table>\n",
       "</div>"
      ],
      "text/plain": [
       "          0         1\n",
       "0  0.119674  0.258199\n",
       "1  0.024934  0.112805\n",
       "2  0.022872  0.064166\n",
       "3  0.233458  0.912659\n",
       "4  0.947519  0.260495"
      ]
     },
     "execution_count": 19,
     "metadata": {},
     "output_type": "execute_result"
    }
   ],
   "source": [
    "df3.head()"
   ]
  },
  {
   "cell_type": "code",
   "execution_count": 20,
   "metadata": {},
   "outputs": [
    {
     "data": {
      "text/plain": [
       "<matplotlib.legend.Legend at 0x4c06690b8>"
      ]
     },
     "execution_count": 20,
     "metadata": {},
     "output_type": "execute_result"
    },
    {
     "data": {
      "image/png": "[encoded data removed]",
      "text/plain": [
       "<Figure size 576x576 with 1 Axes>"
      ]
     },
     "metadata": {
      "needs_background": "light"
     },
     "output_type": "display_data"
    }
   ],
   "source": [
    "## plotting the above results\n",
    "plt.figure(figsize=(8,8))\n",
    "plt.plot(df3,'-o')\n",
    "plt.title(\"Feature importance graph\")\n",
    "plt.xlabel(\"Attributes\",fontsize=11)\n",
    "plt.ylabel(\"Importance\",fontsize=11)\n",
    "plt.xticks(range(0,13))\n",
    "plt.legend(['First Component','Second Component'])"
   ]
  },
  {
   "cell_type": "markdown",
   "metadata": {},
   "source": [
    "<i>This value (pca.components_) tells us how much the feature influences the principal component.<i><br>\n",
    "<b><i>The higher the value in absolute value, the higher the influence on the principal component.</i></b>"
   ]
  },
  {
   "cell_type": "markdown",
   "metadata": {},
   "source": [
    "<i>There are 2 components.</i><br>\n",
    "<i>First component most important features in descending order.</i>\n",
    "<b><ol>\n",
    "    <li>Magnesium</li>\n",
    "    <li>Ash_Alcanity</li>\n",
    "    <li>Proline</li>\n",
    "    <li>Alcohol</li>\n",
    "</ol></b>\n",
    "<i>Second Component most important features in descending order.</i>\n",
    "<ol><b>\n",
    "    <li>Ash_Alcanity</li>\n",
    "    <li>Magnesium</li>\n",
    "    <li>Alcohol</li>\n",
    "    <li>Malic_Acid</li>\n",
    "</b></ol>"
   ]
  },
  {
   "cell_type": "markdown",
   "metadata": {},
   "source": [
    "<b>KMeans</b>"
   ]
  },
  {
   "cell_type": "code",
   "execution_count": 21,
   "metadata": {},
   "outputs": [],
   "source": [
    "## kmeans elbow method to find the best k value\n",
    "from sklearn.cluster import KMeans\n",
    "ks=range(1,6)\n",
    "inertia=[]\n",
    "for k in ks:\n",
    "    model1=KMeans(n_clusters=k)\n",
    "    model1.fit(df1)\n",
    "    inertia.append(model1.inertia_)"
   ]
  },
  {
   "cell_type": "code",
   "execution_count": 22,
   "metadata": {},
   "outputs": [
    {
     "data": {
      "text/plain": [
       "[17592296.383508474,\n",
       " 4543749.614531862,\n",
       " 2370689.686782968,\n",
       " 1331903.0622637183,\n",
       " 916379.187153917]"
      ]
     },
     "execution_count": 22,
     "metadata": {},
     "output_type": "execute_result"
    }
   ],
   "source": [
    "## printing the inertia values\n",
    "inertia"
   ]
  },
  {
   "cell_type": "code",
   "execution_count": 23,
   "metadata": {},
   "outputs": [
    {
     "data": {
      "image/png": "[encoded data removed]",
      "text/plain": [
       "<Figure size 576x576 with 1 Axes>"
      ]
     },
     "metadata": {
      "needs_background": "light"
     },
     "output_type": "display_data"
    }
   ],
   "source": [
    "## plot to find the best k\n",
    "plt.figure(figsize=(8,8))\n",
    "plt.plot(ks,inertia,'-o')\n",
    "plt.xlabel('No of clusters',fontsize=11)\n",
    "plt.ylabel('Inertia',fontsize=11)\n",
    "plt.show()"
   ]
  },
  {
   "cell_type": "markdown",
   "metadata": {},
   "source": [
    "<i>From the above graph we can see that there is a sharp edge at k=2.</i><br>\n",
    "<b>Therefore choosing the number of clusters as 2.</b>"
   ]
  },
  {
   "cell_type": "code",
   "execution_count": 24,
   "metadata": {},
   "outputs": [],
   "source": [
    "## creating the model\n",
    "## pca transformed dataset is given as input\n",
    "model_kmeans=KMeans(n_clusters=2)\n",
    "model_kmeans.fit(x_pca)\n",
    "result=model_kmeans.predict(x_pca)"
   ]
  },
  {
   "cell_type": "code",
   "execution_count": 25,
   "metadata": {},
   "outputs": [
    {
     "data": {
      "text/plain": [
       "array([0, 0, 0, 0, 0, 0, 0, 0, 0, 0, 0, 0, 0, 0, 0, 0, 0, 0, 0, 0, 0, 0,\n",
       "       0, 0, 0, 0, 0, 0, 0, 0, 0, 0, 0, 0, 0, 0, 0, 0, 0, 0, 0, 0, 0, 0,\n",
       "       0, 0, 0, 0, 0, 0, 0, 0, 0, 0, 0, 0, 0, 0, 0, 1, 0, 1, 0, 1, 1, 0,\n",
       "       0, 0, 0, 1, 0, 1, 1, 0, 0, 1, 1, 1, 1, 1, 1, 0, 0, 1, 1, 1, 1, 0,\n",
       "       0, 0, 1, 1, 0, 1, 1, 1, 1, 1, 0, 1, 0, 0, 1, 1, 0, 1, 0, 1, 1, 0,\n",
       "       1, 1, 1, 1, 1, 1, 1, 1, 1, 0, 0, 1, 1, 1, 1, 1, 1, 1, 1, 0, 1, 1,\n",
       "       1, 1, 0, 0, 0, 1, 0, 1, 0, 0, 1, 1, 0, 0, 1, 0, 0, 1, 1, 1, 1, 0,\n",
       "       0, 0, 1, 0, 0, 0, 1, 0, 1, 0, 0, 1, 0, 0, 0, 1, 1, 1, 0, 0, 0, 0,\n",
       "       0, 1])"
      ]
     },
     "execution_count": 25,
     "metadata": {},
     "output_type": "execute_result"
    }
   ],
   "source": [
    "## result\n",
    "result"
   ]
  },
  {
   "cell_type": "code",
   "execution_count": 26,
   "metadata": {},
   "outputs": [
    {
     "data": {
      "image/png": "[encoded data removed]",
      "text/plain": [
       "<Figure size 576x576 with 1 Axes>"
      ]
     },
     "metadata": {
      "needs_background": "light"
     },
     "output_type": "display_data"
    }
   ],
   "source": [
    "## plotting the graph\n",
    "plt.figure(figsize=(8,8))\n",
    "plt.title(\"Principal components scatter plot based on kmeans output\")\n",
    "plt.scatter(x_pca[result == 0,0],x_pca[result==0,1],c='#FA4EAB',s=50,label='cluster1')\n",
    "plt.scatter(x_pca[result == 1,0],x_pca[result==1,1],c='#1572A1',s=50,label='cluster2')\n",
    "plt.xlabel('First Principal Component',fontsize=11)\n",
    "plt.ylabel('Second Principal Component',fontsize=11)\n",
    "plt.legend()\n",
    "plt.show()"
   ]
  },
  {
   "cell_type": "code",
   "execution_count": 27,
   "metadata": {
    "scrolled": false
   },
   "outputs": [
    {
     "data": {
      "text/plain": [
       "<matplotlib.legend.Legend at 0x4c0f9bbe0>"
      ]
     },
     "execution_count": 27,
     "metadata": {},
     "output_type": "execute_result"
    },
    {
     "data": {
      "image/png": "[encoded data removed]",
      "text/plain": [
       "<Figure size 576x576 with 1 Axes>"
      ]
     },
     "metadata": {
      "needs_background": "light"
     },
     "output_type": "display_data"
    }
   ],
   "source": [
    "## Ash_Alcanity vs Magnesium\n",
    "x=df1.iloc[:,[3,4]].values\n",
    "plt.figure(figsize=(8,8))\n",
    "plt.title(\"Ash_Alcanity vs Magnesium based on KMeans model output\")\n",
    "plt.scatter(x[result == 0,0],x[result==0,1],s=50,c='#FA4EAB',label='cluster1')\n",
    "plt.scatter(x[result == 1,0],x[result==1,1],s=50,c='#1572A1',label='cluster2')\n",
    "plt.xlabel(\"Ash_Alcanity\",fontsize=11)\n",
    "plt.ylabel(\"Magnesium\",fontsize=11)\n",
    "plt.legend()"
   ]
  },
  {
   "cell_type": "markdown",
   "metadata": {},
   "source": [
    "<i>1. Most of cluster 1 are having high 'Ash_Alcanity' and low Magnesium.</i><br>\n",
    "<i>2. Most of cluster 2 are having low 'Ash_Alcanity' and low Magnesium.</i><br>"
   ]
  },
  {
   "cell_type": "markdown",
   "metadata": {},
   "source": [
    "<b> Agglomerative Clustering</b>"
   ]
  },
  {
   "cell_type": "code",
   "execution_count": 28,
   "metadata": {},
   "outputs": [
    {
     "data": {
      "image/png": "[encoded data removed]",
      "text/plain": [
       "<Figure size 576x576 with 1 Axes>"
      ]
     },
     "metadata": {
      "needs_background": "light"
     },
     "output_type": "display_data"
    }
   ],
   "source": [
    "## calculating the number of clusters using dendrogram\n",
    "import scipy.cluster.hierarchy as  sch\n",
    "df5=normal.fit_transform(df1)\n",
    "plt.figure(figsize=(8,8))\n",
    "dendrogram2=sch.dendrogram(sch.linkage(df5,method='ward'),orientation='top',distance_sort='ascending',show_leaf_counts=True)\n",
    "plt.hlines(0.7,0,5000,color='r',linestyle='dotted')\n",
    "plt.show()"
   ]
  },
  {
   "cell_type": "markdown",
   "metadata": {},
   "source": [
    "<i>The horizontal line passes through the longest line which cant be cut down by any other horizontal line when expanded hypothetically.</i><br>\n",
    "<b>The number of clusters is 2.</b>"
   ]
  },
  {
   "cell_type": "code",
   "execution_count": 29,
   "metadata": {},
   "outputs": [],
   "source": [
    "## creating model\n",
    "from sklearn.cluster import AgglomerativeClustering\n",
    "hc=AgglomerativeClustering(n_clusters=2,affinity='euclidean',linkage='ward')\n",
    "y_hc=hc.fit_predict(x_pca)"
   ]
  },
  {
   "cell_type": "code",
   "execution_count": 30,
   "metadata": {},
   "outputs": [
    {
     "data": {
      "image/png": "[encoded data removed]",
      "text/plain": [
       "<Figure size 576x576 with 1 Axes>"
      ]
     },
     "metadata": {
      "needs_background": "light"
     },
     "output_type": "display_data"
    }
   ],
   "source": [
    "## graph between the two principal components based on agglomerative clustering output\n",
    "plt.figure(figsize=(8,8))\n",
    "plt.title(\"Principal components scatter plot based on hierarical model output\")\n",
    "plt.scatter(x_pca[y_hc == 0,0],x_pca[y_hc==0,1],c='#FA4EAB',s=50,label='cluster1')\n",
    "plt.scatter(x_pca[y_hc == 1,0],x_pca[y_hc==1,1],c='#1572A1',s=50,label='cluster2')\n",
    "plt.xlabel('First Principal Component',fontsize=11)\n",
    "plt.ylabel('Second Principal Component',fontsize=11)\n",
    "plt.legend()\n",
    "plt.show()"
   ]
  },
  {
   "cell_type": "code",
   "execution_count": 31,
   "metadata": {},
   "outputs": [
    {
     "data": {
      "text/plain": [
       "array([0, 0, 0, 0, 0, 0, 0, 0, 0, 0, 0, 0, 0, 0, 0, 0, 0, 0, 0, 0, 0, 0,\n",
       "       0, 0, 0, 0, 0, 0, 0, 0, 0, 0, 0, 0, 0, 0, 0, 0, 0, 0, 0, 0, 0, 0,\n",
       "       0, 0, 0, 0, 0, 0, 0, 0, 0, 0, 0, 0, 0, 0, 0, 0, 0, 1, 0, 1, 1, 0,\n",
       "       0, 0, 0, 1, 0, 1, 1, 0, 0, 1, 1, 1, 0, 1, 1, 0, 0, 0, 1, 1, 1, 0,\n",
       "       0, 0, 1, 1, 0, 1, 1, 0, 1, 1, 0, 1, 0, 0, 1, 1, 0, 1, 0, 1, 1, 0,\n",
       "       1, 1, 1, 1, 1, 1, 1, 1, 1, 0, 0, 1, 1, 1, 1, 1, 1, 1, 1, 0, 1, 1,\n",
       "       1, 1, 0, 0, 0, 1, 0, 1, 0, 0, 1, 1, 0, 0, 1, 0, 0, 1, 1, 1, 1, 0,\n",
       "       0, 0, 1, 0, 0, 0, 1, 0, 1, 0, 0, 1, 0, 0, 0, 1, 1, 1, 0, 0, 0, 0,\n",
       "       0, 1], dtype=int64)"
      ]
     },
     "execution_count": 31,
     "metadata": {},
     "output_type": "execute_result"
    }
   ],
   "source": [
    "## output\n",
    "y_hc"
   ]
  },
  {
   "cell_type": "code",
   "execution_count": 32,
   "metadata": {},
   "outputs": [
    {
     "data": {
      "text/plain": [
       "<matplotlib.legend.Legend at 0x4c1204668>"
      ]
     },
     "execution_count": 32,
     "metadata": {},
     "output_type": "execute_result"
    },
    {
     "data": {
      "image/png": "[encoded data removed]",
      "text/plain": [
       "<Figure size 576x576 with 1 Axes>"
      ]
     },
     "metadata": {
      "needs_background": "light"
     },
     "output_type": "display_data"
    }
   ],
   "source": [
    "## Ash_Alcanity vs Magnesium\n",
    "x=df1.iloc[:,[3,4]].values\n",
    "plt.figure(figsize=(8,8))\n",
    "plt.title(\"Ash_Alcanity vs Magnesium based on hierarical model output\")\n",
    "plt.scatter(x[y_hc == 0,0],x[y_hc==0,1],c='#FA4EAB',s=50,label='cluster1')\n",
    "plt.scatter(x[y_hc == 1,0],x[y_hc==1,1],c='#1572A1',s=50,label='cluster2')\n",
    "plt.xlabel(\"Ash_Alcanity\",fontsize=11)\n",
    "plt.ylabel(\"Magnesium\",fontsize=11)\n",
    "plt.legend()"
   ]
  },
  {
   "cell_type": "markdown",
   "metadata": {},
   "source": [
    "<i>1. Most of cluster 1 are having low 'Ash_Alcanity' and low Magnesium.</i><br>\n",
    "<i>2. Most of cluster 2 are having high 'Ash_Alcanity' and low Magnesium.</i><br>"
   ]
  }
 ],
 "metadata": {
  "kernelspec": {
   "display_name": "Python 3",
   "language": "python",
   "name": "python3"
  },
  "language_info": {
   "codemirror_mode": {
    "name": "ipython",
    "version": 3
   },
   "file_extension": ".py",
   "mimetype": "text/x-python",
   "name": "python",
   "nbconvert_exporter": "python",
   "pygments_lexer": "ipython3",
   "version": "3.7.3"
  }
 },
 "nbformat": 4,
 "nbformat_minor": 2
}
